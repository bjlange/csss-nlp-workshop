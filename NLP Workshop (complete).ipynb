{
 "cells": [
  {
   "cell_type": "code",
   "execution_count": 1,
   "metadata": {
    "collapsed": true
   },
   "outputs": [],
   "source": [
    "import csv\n",
    "import nltk\n",
    "import math\n",
    "import collections\n",
    "from textblob import TextBlob\n",
    "from pprint import pprint"
   ]
  },
  {
   "cell_type": "markdown",
   "metadata": {},
   "source": [
    "# Getting data into Python (basic python i/o)"
   ]
  },
  {
   "cell_type": "code",
   "execution_count": 2,
   "metadata": {
    "collapsed": false
   },
   "outputs": [],
   "source": [
    "csvfile = open('bernie-sanders-announces.csv','r')\n",
    "reader = csv.reader(csvfile)\n",
    "data = []\n",
    "for line in reader:\n",
    "    line[3] = line[3].decode('utf-8')\n",
    "    data.append(line)"
   ]
  },
  {
   "cell_type": "code",
   "execution_count": 3,
   "metadata": {
    "collapsed": false
   },
   "outputs": [
    {
     "data": {
      "text/plain": [
       "3349"
      ]
     },
     "execution_count": 3,
     "metadata": {},
     "output_type": "execute_result"
    }
   ],
   "source": [
    "len(data)"
   ]
  },
  {
   "cell_type": "code",
   "execution_count": 4,
   "metadata": {
    "collapsed": false
   },
   "outputs": [
    {
     "data": {
      "text/plain": [
       "['author', 'score', 'submission', u'body']"
      ]
     },
     "execution_count": 4,
     "metadata": {},
     "output_type": "execute_result"
    }
   ],
   "source": [
    "data[0]"
   ]
  },
  {
   "cell_type": "code",
   "execution_count": 5,
   "metadata": {
    "collapsed": false
   },
   "outputs": [
    {
     "data": {
      "text/plain": [
       "['bobnojio',\n",
       " '368',\n",
       " 'U.S. Sen. Bernie Sanders will announce his candidacy for the Democratic presidential nomination on Thursday',\n",
       " u\"Honest question?   How does one announce that they will announce?   Isn't this pre-announcement technically the announcement itself?\"]"
      ]
     },
     "execution_count": 5,
     "metadata": {},
     "output_type": "execute_result"
    }
   ],
   "source": [
    "data[1]"
   ]
  },
  {
   "cell_type": "code",
   "execution_count": 6,
   "metadata": {
    "collapsed": false
   },
   "outputs": [],
   "source": [
    "comment_text = data[1][-1]"
   ]
  },
  {
   "cell_type": "markdown",
   "metadata": {},
   "source": [
    "# Basic python string manipulation"
   ]
  },
  {
   "cell_type": "code",
   "execution_count": 7,
   "metadata": {
    "collapsed": false
   },
   "outputs": [
    {
     "data": {
      "text/plain": [
       "u\"Honest question?   How does one announce that they will announce?   Isn't this pre-announcement technically the announcement itself?\""
      ]
     },
     "execution_count": 7,
     "metadata": {},
     "output_type": "execute_result"
    }
   ],
   "source": [
    "comment_text"
   ]
  },
  {
   "cell_type": "code",
   "execution_count": 8,
   "metadata": {
    "collapsed": false
   },
   "outputs": [
    {
     "data": {
      "text/plain": [
       "u'H'"
      ]
     },
     "execution_count": 8,
     "metadata": {},
     "output_type": "execute_result"
    }
   ],
   "source": [
    "comment_text[0]"
   ]
  },
  {
   "cell_type": "code",
   "execution_count": 9,
   "metadata": {
    "collapsed": false
   },
   "outputs": [
    {
     "data": {
      "text/plain": [
       "u'nest'"
      ]
     },
     "execution_count": 9,
     "metadata": {},
     "output_type": "execute_result"
    }
   ],
   "source": [
    "comment_text[2:6]"
   ]
  },
  {
   "cell_type": "code",
   "execution_count": 10,
   "metadata": {
    "collapsed": false
   },
   "outputs": [
    {
     "data": {
      "text/plain": [
       "u\"Honest question?   How does one announce that they will announce?   Isn't this pre-announcement technically the announcement itself?Honest question?   How does one announce that they will announce?   Isn't this pre-announcement technically the announcement itself?\""
      ]
     },
     "execution_count": 10,
     "metadata": {},
     "output_type": "execute_result"
    }
   ],
   "source": [
    "comment_text + comment_text"
   ]
  },
  {
   "cell_type": "code",
   "execution_count": 11,
   "metadata": {
    "collapsed": false
   },
   "outputs": [
    {
     "data": {
      "text/plain": [
       "[u'Honest',\n",
       " u'question?',\n",
       " u'How',\n",
       " u'does',\n",
       " u'one',\n",
       " u'announce',\n",
       " u'that',\n",
       " u'they',\n",
       " u'will',\n",
       " u'announce?',\n",
       " u\"Isn't\",\n",
       " u'this',\n",
       " u'pre-announcement',\n",
       " u'technically',\n",
       " u'the',\n",
       " u'announcement',\n",
       " u'itself?']"
      ]
     },
     "execution_count": 11,
     "metadata": {},
     "output_type": "execute_result"
    }
   ],
   "source": [
    "# tab complete\n",
    "comment_text.split()"
   ]
  },
  {
   "cell_type": "code",
   "execution_count": 12,
   "metadata": {
    "collapsed": false
   },
   "outputs": [
    {
     "data": {
      "text/plain": [
       "[u'Honest question',\n",
       " u'   How does one announce that they will announce',\n",
       " u\"   Isn't this pre-announcement technically the announcement itself\",\n",
       " u'']"
      ]
     },
     "execution_count": 12,
     "metadata": {},
     "output_type": "execute_result"
    }
   ],
   "source": [
    "split_on_questions = comment_text.split('?')\n",
    "split_on_questions"
   ]
  },
  {
   "cell_type": "code",
   "execution_count": 13,
   "metadata": {
    "collapsed": false
   },
   "outputs": [
    {
     "name": "stdout",
     "output_type": "stream",
     "text": [
      "Honest question\n",
      "How does one announce that they will announce\n",
      "Isn't this pre-announcement technically the announcement itself\n",
      "\n"
     ]
    }
   ],
   "source": [
    "for string in split_on_questions:\n",
    "    print string.strip()"
   ]
  },
  {
   "cell_type": "code",
   "execution_count": 14,
   "metadata": {
    "collapsed": false
   },
   "outputs": [
    {
     "data": {
      "text/plain": [
       "[u'honest question',\n",
       " u'how does one announce that they will announce',\n",
       " u\"isn't this pre-announcement technically the announcement itself\",\n",
       " u'']"
      ]
     },
     "execution_count": 14,
     "metadata": {},
     "output_type": "execute_result"
    }
   ],
   "source": [
    "cleaned = [s.strip().lower() for s in split_on_questions]\n",
    "cleaned"
   ]
  },
  {
   "cell_type": "code",
   "execution_count": 15,
   "metadata": {
    "collapsed": false
   },
   "outputs": [
    {
     "data": {
      "text/plain": [
       "u\"honest question?!?! how does one announce that they will announce?!?! isn't this pre-announcement technically the announcement itself?!?! \""
      ]
     },
     "execution_count": 15,
     "metadata": {},
     "output_type": "execute_result"
    }
   ],
   "source": [
    "'?!?! '.join(cleaned)"
   ]
  },
  {
   "cell_type": "code",
   "execution_count": 16,
   "metadata": {
    "collapsed": false
   },
   "outputs": [
    {
     "data": {
      "text/plain": [
       "True"
      ]
     },
     "execution_count": 16,
     "metadata": {},
     "output_type": "execute_result"
    }
   ],
   "source": [
    "'Hilary' in data[80][-1] "
   ]
  },
  {
   "cell_type": "code",
   "execution_count": 17,
   "metadata": {
    "collapsed": false
   },
   "outputs": [
    {
     "data": {
      "text/plain": [
       "219"
      ]
     },
     "execution_count": 17,
     "metadata": {},
     "output_type": "execute_result"
    }
   ],
   "source": [
    "clinton_count = 0\n",
    "for row in data:\n",
    "    if 'Hilary' in row[-1] or 'Clinton' in row[-1]:\n",
    "        clinton_count += 1\n",
    "clinton_count"
   ]
  },
  {
   "cell_type": "markdown",
   "metadata": {},
   "source": [
    "# Introducing TextBlob\n",
    "Like a supercharged string, with lots of NLP niceties"
   ]
  },
  {
   "cell_type": "code",
   "execution_count": 18,
   "metadata": {
    "collapsed": false
   },
   "outputs": [
    {
     "data": {
      "text/plain": [
       "TextBlob(\"Some social issues are of great importance like gay rights. My problem here is that these issues are solved by society more than politicians. Society has decided that gay people deserve the same rights as everyone else and nothing is going to stop that now, not even court rulings. This is why I am reluctance to vote for people based on social issues, especially people who don't actually have strong opinions on them and just base their decisions on polls numbers like Hilary did with gay marriage. \n",
       "\n",
       "Besides saying she wants to raise the minimum wage there is nothing that interests me in Hilary. When talking to the more blue collar democrats on here their only selling point for Hilary is she is pro-choice. Don't get me wrong this is an important issue but it's pretty far down my list. I would rather vote for someone who is anti-war and anti-wall street immunity while being anti-abortion than I would vote for the opposite of that.\")"
      ]
     },
     "execution_count": 18,
     "metadata": {},
     "output_type": "execute_result"
    }
   ],
   "source": [
    "blob = TextBlob(data[80][-1])\n",
    "blob"
   ]
  },
  {
   "cell_type": "code",
   "execution_count": 19,
   "metadata": {
    "collapsed": false
   },
   "outputs": [
    {
     "data": {
      "text/plain": [
       "[Sentence(\"Some social issues are of great importance like gay rights.\"),\n",
       " Sentence(\"My problem here is that these issues are solved by society more than politicians.\"),\n",
       " Sentence(\"Society has decided that gay people deserve the same rights as everyone else and nothing is going to stop that now, not even court rulings.\"),\n",
       " Sentence(\"This is why I am reluctance to vote for people based on social issues, especially people who don't actually have strong opinions on them and just base their decisions on polls numbers like Hilary did with gay marriage.\"),\n",
       " Sentence(\"Besides saying she wants to raise the minimum wage there is nothing that interests me in Hilary.\"),\n",
       " Sentence(\"When talking to the more blue collar democrats on here their only selling point for Hilary is she is pro-choice.\"),\n",
       " Sentence(\"Don't get me wrong this is an important issue but it's pretty far down my list.\"),\n",
       " Sentence(\"I would rather vote for someone who is anti-war and anti-wall street immunity while being anti-abortion than I would vote for the opposite of that.\")]"
      ]
     },
     "execution_count": 19,
     "metadata": {},
     "output_type": "execute_result"
    }
   ],
   "source": [
    "blob.sentences"
   ]
  },
  {
   "cell_type": "code",
   "execution_count": 20,
   "metadata": {
    "collapsed": false
   },
   "outputs": [
    {
     "data": {
      "text/plain": [
       "WordList([u'Some', u'social', u'issues', u'are', u'of', u'great', u'importance', u'like', u'gay', u'rights', u'My', u'problem', u'here', u'is', u'that', u'these', u'issues', u'are', u'solved', u'by', u'society', u'more', u'than', u'politicians', u'Society', u'has', u'decided', u'that', u'gay', u'people', u'deserve', u'the', u'same', u'rights', u'as', u'everyone', u'else', u'and', u'nothing', u'is', u'going', u'to', u'stop', u'that', u'now', u'not', u'even', u'court', u'rulings', u'This', u'is', u'why', u'I', u'am', u'reluctance', u'to', u'vote', u'for', u'people', u'based', u'on', u'social', u'issues', u'especially', u'people', u'who', u'do', u\"n't\", u'actually', u'have', u'strong', u'opinions', u'on', u'them', u'and', u'just', u'base', u'their', u'decisions', u'on', u'polls', u'numbers', u'like', u'Hilary', u'did', u'with', u'gay', u'marriage', u'Besides', u'saying', u'she', u'wants', u'to', u'raise', u'the', u'minimum', u'wage', u'there', u'is', u'nothing', u'that', u'interests', u'me', u'in', u'Hilary', u'When', u'talking', u'to', u'the', u'more', u'blue', u'collar', u'democrats', u'on', u'here', u'their', u'only', u'selling', u'point', u'for', u'Hilary', u'is', u'she', u'is', u'pro-choice', u'Do', u\"n't\", u'get', u'me', u'wrong', u'this', u'is', u'an', u'important', u'issue', u'but', u'it', u\"'s\", u'pretty', u'far', u'down', u'my', u'list', u'I', u'would', u'rather', u'vote', u'for', u'someone', u'who', u'is', u'anti-war', u'and', u'anti-wall', u'street', u'immunity', u'while', u'being', u'anti-abortion', u'than', u'I', u'would', u'vote', u'for', u'the', u'opposite', u'of', u'that'])"
      ]
     },
     "execution_count": 20,
     "metadata": {},
     "output_type": "execute_result"
    }
   ],
   "source": [
    "blob.words"
   ]
  },
  {
   "cell_type": "code",
   "execution_count": 21,
   "metadata": {
    "collapsed": false
   },
   "outputs": [
    {
     "data": {
      "text/plain": [
       "WordList([u'Some', u'social', u'issues', u'are', u'of', u'great', u'importance', u'like', u'gay', u'rights', u'.', u'My', u'problem', u'here', u'is', u'that', u'these', u'issues', u'are', u'solved', u'by', u'society', u'more', u'than', u'politicians', u'.', u'Society', u'has', u'decided', u'that', u'gay', u'people', u'deserve', u'the', u'same', u'rights', u'as', u'everyone', u'else', u'and', u'nothing', u'is', u'going', u'to', u'stop', u'that', u'now', u',', u'not', u'even', u'court', u'rulings', u'.', u'This', u'is', u'why', u'I', u'am', u'reluctance', u'to', u'vote', u'for', u'people', u'based', u'on', u'social', u'issues', u',', u'especially', u'people', u'who', u'do', u\"n't\", u'actually', u'have', u'strong', u'opinions', u'on', u'them', u'and', u'just', u'base', u'their', u'decisions', u'on', u'polls', u'numbers', u'like', u'Hilary', u'did', u'with', u'gay', u'marriage', u'.', u'Besides', u'saying', u'she', u'wants', u'to', u'raise', u'the', u'minimum', u'wage', u'there', u'is', u'nothing', u'that', u'interests', u'me', u'in', u'Hilary', u'.', u'When', u'talking', u'to', u'the', u'more', u'blue', u'collar', u'democrats', u'on', u'here', u'their', u'only', u'selling', u'point', u'for', u'Hilary', u'is', u'she', u'is', u'pro-choice', u'.', u'Do', u\"n't\", u'get', u'me', u'wrong', u'this', u'is', u'an', u'important', u'issue', u'but', u'it', u\"'s\", u'pretty', u'far', u'down', u'my', u'list', u'.', u'I', u'would', u'rather', u'vote', u'for', u'someone', u'who', u'is', u'anti-war', u'and', u'anti-wall', u'street', u'immunity', u'while', u'being', u'anti-abortion', u'than', u'I', u'would', u'vote', u'for', u'the', u'opposite', u'of', u'that', u'.'])"
      ]
     },
     "execution_count": 21,
     "metadata": {},
     "output_type": "execute_result"
    }
   ],
   "source": [
    "blob.tokens"
   ]
  },
  {
   "cell_type": "code",
   "execution_count": 22,
   "metadata": {
    "collapsed": false
   },
   "outputs": [
    {
     "data": {
      "text/plain": [
       "WordList([u'social issues', u'great importance', u'gay rights', u'gay people deserve', u'court rulings', u'social issues', u'strong opinions', u'polls numbers', u'hilary', u'gay marriage', u'minimum wage', u'hilary', u'blue collar democrats', u'hilary', u'important issue', u'anti-wall street immunity'])"
      ]
     },
     "execution_count": 22,
     "metadata": {},
     "output_type": "execute_result"
    }
   ],
   "source": [
    "blob.noun_phrases"
   ]
  },
  {
   "cell_type": "markdown",
   "metadata": {},
   "source": [
    "# Summarizing/keywording text\n",
    "\n",
    "## How might we find representative words or phrases of a document?\n",
    "\n",
    "###A place to start: which words appear at the highest frequency in this document?"
   ]
  },
  {
   "cell_type": "code",
   "execution_count": 23,
   "metadata": {
    "collapsed": false
   },
   "outputs": [
    {
     "data": {
      "text/plain": [
       "defaultdict(<type 'int'>, {u'saying': 1, u'just': 1, u'opinions': 1, u'being': 1, u'democrats': 1, u'anti-abortion': 1, u'decisions': 1, u'issues': 3, u'wage': 1, u'based': 1, u'reluctance': 1, u'actually': 1, u'to': 4, u'only': 1, u'going': 1, u'pretty': 1, u'has': 1, u'do': 2, u'them': 1, u'someone': 1, u'get': 1, u'far': 1, u'stop': 1, u'not': 1, u'now': 1, u'like': 2, u'pro-choice': 1, u'did': 1, u'list': 1, u'this': 2, u'she': 2, u'everyone': 1, u'people': 3, u'some': 1, u'society': 2, u'decided': 1, u'are': 2, u'blue': 1, u'for': 4, u'solved': 1, u'issue': 1, u'importance': 1, u'here': 2, u'base': 1, u'besides': 1, u'strong': 1, u'by': 1, u'on': 4, u'great': 1, u'anti-wall': 1, u'of': 2, u's': 1, u'social': 2, u'anti-war': 1, u'point': 1, u'down': 1, u'vote': 3, u'raise': 1, u'would': 2, u'there': 1, u'hilary': 3, u'collar': 1, u'their': 2, u'more': 2, u'wants': 1, u'selling': 1, u'gay': 3, u'that': 5, u'but': 1, u'else': 1, u'with': 1, u'than': 2, u'me': 2, u'rights': 2, u'these': 1, u'polls': 1, u'rulings': 1, u\"n't\": 2, u'while': 1, u'street': 1, u'marriage': 1, u'problem': 1, u'my': 2, u'and': 3, u'interests': 1, u'is': 8, u'am': 1, u'it': 1, u'an': 1, u'talking': 1, u'as': 1, u'minimum': 1, u'numbers': 1, u'have': 1, u'in': 1, u'court': 1, u'rather': 1, u'deserve': 1, u'when': 1, u'same': 1, u'politicians': 1, u'immunity': 1, u'even': 1, u'opposite': 1, u'who': 2, u'wrong': 1, u'important': 1, u'nothing': 2, u'why': 1, u'especially': 1, u'i': 3, u'the': 4})"
      ]
     },
     "execution_count": 23,
     "metadata": {},
     "output_type": "execute_result"
    }
   ],
   "source": [
    "blob.word_counts"
   ]
  },
  {
   "cell_type": "code",
   "execution_count": 27,
   "metadata": {
    "collapsed": false
   },
   "outputs": [],
   "source": [
    "word_count = collections.Counter(blob.word_counts)"
   ]
  },
  {
   "cell_type": "code",
   "execution_count": 28,
   "metadata": {
    "collapsed": false
   },
   "outputs": [
    {
     "data": {
      "text/plain": [
       "[(u'is', 8), (u'that', 5), (u'to', 4), (u'for', 4), (u'on', 4)]"
      ]
     },
     "execution_count": 28,
     "metadata": {},
     "output_type": "execute_result"
    }
   ],
   "source": [
    "word_count.most_common(5)"
   ]
  },
  {
   "cell_type": "markdown",
   "metadata": {},
   "source": [
    "### Challenge: get overall word counts for all comments combined"
   ]
  },
  {
   "cell_type": "markdown",
   "metadata": {},
   "source": [
    "**The Problem:** words we use frequently don't make good unique identifiers.\n",
    "\n",
    "A solution: use a list of words we don't want to include\n",
    "\n",
    "### \"Stop Words\""
   ]
  },
  {
   "cell_type": "code",
   "execution_count": 29,
   "metadata": {
    "collapsed": false
   },
   "outputs": [],
   "source": [
    "stopwords = nltk.corpus.stopwords.words('english')"
   ]
  },
  {
   "cell_type": "code",
   "execution_count": 30,
   "metadata": {
    "collapsed": false
   },
   "outputs": [
    {
     "name": "stdout",
     "output_type": "stream",
     "text": [
      "showing info http://www.nltk.org/nltk_data/\n"
     ]
    },
    {
     "data": {
      "text/plain": [
       "True"
      ]
     },
     "execution_count": 30,
     "metadata": {},
     "output_type": "execute_result"
    }
   ],
   "source": [
    "nltk.download()"
   ]
  },
  {
   "cell_type": "code",
   "execution_count": 31,
   "metadata": {
    "collapsed": false
   },
   "outputs": [],
   "source": [
    "for key in word_count.keys():\n",
    "    if key in stopwords or len(key) <= 2:\n",
    "        del word_count[key]"
   ]
  },
  {
   "cell_type": "code",
   "execution_count": 32,
   "metadata": {
    "collapsed": false
   },
   "outputs": [
    {
     "data": {
      "text/plain": [
       "[(u'vote', 3), (u'issues', 3), (u'hilary', 3), (u'gay', 3), (u'people', 3)]"
      ]
     },
     "execution_count": 32,
     "metadata": {},
     "output_type": "execute_result"
    }
   ],
   "source": [
    "word_count.most_common(5)"
   ]
  },
  {
   "cell_type": "markdown",
   "metadata": {},
   "source": [
    "We could continue to add on stopwords as we try to make these keywords better. But it's kind of like playing whack-a-mole"
   ]
  },
  {
   "cell_type": "markdown",
   "metadata": {},
   "source": [
    "An additional solution to The Problem: add a new term to our \"representative-ness\" measure that accounts for the overall rarity of the word\n",
    "\n",
    "$$\\frac { { n }_{ w } }{ N }  $$\n",
    "\n",
    "where ${ n }_{ w }$ is the number of documents containing word $ w $, and $ N $ is the total number of documents.\n",
    "\n",
    "But we want a potential keyword to have a lower score if it is common in the corpus and a higher score if it is rarer, so we flip it:\n",
    "\n",
    "$$\\frac { N }{ { n }_{ w } }  $$\n",
    "\n",
    "It's also common to take the log of this to reduce the amount of disparity between extremely common and extremely uncommon terms.\n",
    "\n",
    "$$ \\log \\frac { N }{ { n }_{ w } }  $$\n",
    "\n",
    "This is called **IDF**, or Inverse Document Frequency. Let's calculate it for all the words in our comment dataset!"
   ]
  },
  {
   "cell_type": "code",
   "execution_count": 33,
   "metadata": {
    "collapsed": false
   },
   "outputs": [],
   "source": [
    "N_documents = float(len(data))\n",
    "word_document_counts = collections.Counter()\n",
    "word_idf = {}"
   ]
  },
  {
   "cell_type": "code",
   "execution_count": 34,
   "metadata": {
    "collapsed": false
   },
   "outputs": [],
   "source": [
    "for row in data[1:]:\n",
    "    blob = TextBlob(row[-1].lower())\n",
    "    words = blob.word_counts.keys()\n",
    "    word_document_counts.update(words)"
   ]
  },
  {
   "cell_type": "code",
   "execution_count": 35,
   "metadata": {
    "collapsed": false
   },
   "outputs": [],
   "source": [
    "for key, val in word_document_counts.iteritems():\n",
    "    word_idf[key] = math.log(N_documents/val)"
   ]
  },
  {
   "cell_type": "markdown",
   "metadata": {},
   "source": [
    "For each word $ w $ in a given document $ D $, we can multiply the term frequency \n",
    "$$\\frac { { D }_{ w } }{ { W }_{ D } } $$ \n",
    "\n",
    "where $ { D }_{ w } $ is the number of occurrences of word $ w $ in document $ D $\n",
    "\n",
    "and $ { W }_{ D } $ is the total number of words in document $ D $\n",
    "\n",
    "with the word's **IDF** that we just calculated to get **TF-IDF** scores, the highest ones being words that likely to be good representatives of that document."
   ]
  },
  {
   "cell_type": "code",
   "execution_count": 36,
   "metadata": {
    "collapsed": false
   },
   "outputs": [],
   "source": [
    "comment = data[80][-1]\n",
    "blob = TextBlob(comment.lower())\n",
    "num_words_in_comment = len(blob.words)\n",
    "word_count = blob.word_counts\n",
    "\n",
    "tf_scores = {}\n",
    "for word, count in word_count.items():\n",
    "    if word not in stopwords and len(word) > 2:\n",
    "        tf_scores[word] = float(count)/num_words_in_comment"
   ]
  },
  {
   "cell_type": "code",
   "execution_count": 37,
   "metadata": {
    "collapsed": false
   },
   "outputs": [
    {
     "data": {
      "text/plain": [
       "[(u'gay', 0.08420035162735802),\n",
       " (u'hilary', 0.07152755729680166),\n",
       " (u'society', 0.06289528248497606),\n",
       " (u'issues', 0.06252315278487401),\n",
       " (u'anti-abortion', 0.048312006385679784)]"
      ]
     },
     "execution_count": 37,
     "metadata": {},
     "output_type": "execute_result"
    }
   ],
   "source": [
    "tf_idf = {}\n",
    "for word, tf in tf_scores.items():\n",
    "    tf_idf[word] = tf*word_idf[word]\n",
    "\n",
    "sorted(tf_idf.iteritems(), key=lambda k: k[1], reverse=True)[:5]"
   ]
  },
  {
   "cell_type": "markdown",
   "metadata": {},
   "source": [
    "Note that TF-IDF can be [tweaked in lots of other ways](https://en.wikipedia.org/wiki/Tf%E2%80%93idf) if you aren't getting good results.\n",
    "\n",
    "It can also be done with \"n-grams\"— phrases that are n words long to capture multi word phrases like \"gay rights\" or \"hillary clinton\""
   ]
  },
  {
   "cell_type": "markdown",
   "metadata": {},
   "source": [
    "# Additional demonstrations\n",
    "## Boiling down words: stemming"
   ]
  },
  {
   "cell_type": "code",
   "execution_count": 38,
   "metadata": {
    "collapsed": true
   },
   "outputs": [],
   "source": [
    "from nltk.stem.porter import PorterStemmer"
   ]
  },
  {
   "cell_type": "code",
   "execution_count": 39,
   "metadata": {
    "collapsed": false
   },
   "outputs": [
    {
     "name": "stdout",
     "output_type": "stream",
     "text": [
      "polit\n",
      "polit\n",
      "politician\n"
     ]
    }
   ],
   "source": [
    "stemmer = PorterStemmer()\n",
    "print stemmer.stem('political')\n",
    "print stemmer.stem('politics')\n",
    "print stemmer.stem('politician')"
   ]
  },
  {
   "cell_type": "markdown",
   "metadata": {},
   "source": [
    "## Seeing words in context: concordance"
   ]
  },
  {
   "cell_type": "code",
   "execution_count": 40,
   "metadata": {
    "collapsed": false
   },
   "outputs": [
    {
     "name": "stdout",
     "output_type": "stream",
     "text": [
      "Displaying 3 of 3 matches:\n",
      "eir decisions on polls numbers like Hilary did with gay marriage . Besides say\n",
      "ere is nothing that interests me in Hilary . When talking to the more blue col\n",
      "n here their only selling point for Hilary is she is pro-choice . Do n't get m\n"
     ]
    }
   ],
   "source": [
    "from nltk.text import Text\n",
    "tokens = TextBlob(data[80][-1]).tokens\n",
    "text_object = Text(tokens)\n",
    "text_object.concordance('Hilary')"
   ]
  },
  {
   "cell_type": "markdown",
   "metadata": {},
   "source": [
    "## Sentiment Analysis"
   ]
  },
  {
   "cell_type": "code",
   "execution_count": 87,
   "metadata": {
    "collapsed": false
   },
   "outputs": [
    {
     "data": {
      "text/plain": [
       "TextBlob(\"Bernie has said himself, to have any chance of winning, he will need to organize an unprecedented grass roots movement.\n",
       "\n",
       "The enthusiasm shown in the thread is giving me great hope!!\n",
       "Go Bernie!\")"
      ]
     },
     "execution_count": 87,
     "metadata": {},
     "output_type": "execute_result"
    }
   ],
   "source": [
    "blob = TextBlob(data[41][-1])\n",
    "blob"
   ]
  },
  {
   "cell_type": "code",
   "execution_count": 88,
   "metadata": {
    "collapsed": false
   },
   "outputs": [
    {
     "data": {
      "text/plain": [
       "Sentiment(polarity=0.7000000000000001, subjectivity=0.7999999999999999)"
      ]
     },
     "execution_count": 88,
     "metadata": {},
     "output_type": "execute_result"
    }
   ],
   "source": [
    "blob.sentiment"
   ]
  },
  {
   "cell_type": "code",
   "execution_count": 90,
   "metadata": {
    "collapsed": false
   },
   "outputs": [
    {
     "data": {
      "text/plain": [
       "Sentiment(polarity=1.0, subjectivity=0.75)"
      ]
     },
     "execution_count": 90,
     "metadata": {},
     "output_type": "execute_result"
    }
   ],
   "source": [
    "blob.sentences[1].sentiment"
   ]
  }
 ],
 "metadata": {
  "kernelspec": {
   "display_name": "Python 2",
   "language": "python",
   "name": "python2"
  },
  "language_info": {
   "codemirror_mode": {
    "name": "ipython",
    "version": 2
   },
   "file_extension": ".py",
   "mimetype": "text/x-python",
   "name": "python",
   "nbconvert_exporter": "python",
   "pygments_lexer": "ipython2",
   "version": "2.7.9"
  }
 },
 "nbformat": 4,
 "nbformat_minor": 0
}
